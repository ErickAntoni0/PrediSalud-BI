{
  "cells": [
    {
      "cell_type": "code",
      "execution_count": null,
      "metadata": {
        "vscode": {
          "languageId": "plaintext"
        }
      },
      "outputs": [],
      "source": [
        "# 🏥 PrediSalud - Análisis y Minería de Datos Médicos\n",
        "\n",
        "## 📋 Notebook para análisis predictivo en Google Colab\n",
        "\n",
        "**Funcionalidades:**\n",
        "- 🔗 Conexión segura a Snowflake\n",
        "- 🧠 Machine Learning médico\n",
        "- 📈 Visualizaciones interactivas\n",
        "- 🎯 Modelos predictivos de salud\n",
        "\n",
        "---\n"
      ]
    },
    {
      "cell_type": "code",
      "execution_count": null,
      "metadata": {
        "vscode": {
          "languageId": "plaintext"
        }
      },
      "outputs": [],
      "source": [
        "## 🔧 Instalación de Dependencias\n"
      ]
    },
    {
      "cell_type": "code",
      "execution_count": null,
      "metadata": {},
      "outputs": [],
      "source": [
        "# Instalar librerías necesarias en Colab\n",
        "!pip3 install snowflake-connector-python[pandas]\n",
        "!pip3 install plotly\n",
        "!pip3 install seaborn\n",
        "!pip3 install scikit-learn\n",
        "!pip3 install imbalanced-learn\n",
        "!pip3 install shap\n",
        "!pip3 install streamlit\n",
        "!pip3 install sqlalchemy\n",
        "\n",
        "print(\"✅ Todas las librerías instaladas correctamente\")\n"
      ]
    },
    {
      "cell_type": "code",
      "execution_count": null,
      "metadata": {},
      "outputs": [],
      "source": []
    }
  ],
  "metadata": {
    "language_info": {
      "name": "python"
    }
  },
  "nbformat": 4,
  "nbformat_minor": 2
}
