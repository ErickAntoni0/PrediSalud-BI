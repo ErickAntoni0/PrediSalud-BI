{
  "cells": [
    {
      "cell_type": "code",
      "execution_count": null,
      "metadata": {
        "vscode": {
          "languageId": "plaintext"
        }
      },
      "outputs": [],
      "source": [
        "# 🏥 PrediSalud - Análisis ML con Datos REALES\n",
        "\n",
        "## 📋 Notebook actualizado para conectar a PREDISALUD.PUBLIC\n",
        "\n",
        "**Conecta a tus tablas reales:**\n",
        "- 👥 PACIENTES\n",
        "- 🩺 CONSULTAS  \n",
        "- 💓 SIGNOS_VITALES\n",
        "- 💊 MEDICAMENTOS\n",
        "- 📋 HISTORIAL_MEDICO\n",
        "- 🧪 RESULTADOS_LABORATORIO\n",
        "\n",
        "---\n"
      ]
    }
  ],
  "metadata": {
    "language_info": {
      "name": "python"
    }
  },
  "nbformat": 4,
  "nbformat_minor": 2
}
